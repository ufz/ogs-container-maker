{
 "cells": [
  {
   "cell_type": "code",
   "execution_count": 1,
   "id": "fc9c6efb-336a-47f0-85f1-812b1c5bad9a",
   "metadata": {},
   "outputs": [
    {
     "name": "stdout",
     "output_type": "stream",
     "text": [
      "General image config\n"
     ]
    },
    {
     "data": {
      "application/vnd.jupyter.widget-view+json": {
       "model_id": "e601a6cea8254f17ad460fb58473e517",
       "version_major": 2,
       "version_minor": 0
      },
      "text/plain": [
       "GridBox(children=(Label(value='--format'), Text(value='', description='(?)', description_tooltip='', placehold…"
      ]
     },
     "metadata": {},
     "output_type": "display_data"
    },
    {
     "name": "stdout",
     "output_type": "stream",
     "text": [
      "Image build options\n"
     ]
    },
    {
     "data": {
      "application/vnd.jupyter.widget-view+json": {
       "model_id": "a92cb290669d4b71a950accb6dcbdf0c",
       "version_major": 2,
       "version_minor": 0
      },
      "text/plain": [
       "GridBox(children=(Label(value='--build'), Checkbox(value=True, description='Build the images from the definiti…"
      ]
     },
     "metadata": {},
     "output_type": "display_data"
    },
    {
     "name": "stdout",
     "output_type": "stream",
     "text": [
      "Packages to install\n"
     ]
    },
    {
     "data": {
      "application/vnd.jupyter.widget-view+json": {
       "model_id": "eda21a831fec407fbd1a6ce66b663f10",
       "version_major": 2,
       "version_minor": 0
      },
      "text/plain": [
       "GridBox(children=(Label(value='--pip'), Text(value='', description='(?)', description_tooltip='Install additio…"
      ]
     },
     "metadata": {},
     "output_type": "display_data"
    },
    {
     "data": {
      "application/vnd.jupyter.widget-view+json": {
       "model_id": "d6e9df62ad8d448ea627e76f349d1e8e",
       "version_major": 2,
       "version_minor": 0
      },
      "text/plain": [
       "Tab(children=(VBox(children=(ToggleButton(value=True, button_style='success', description='Enabled', icon='che…"
      ]
     },
     "metadata": {},
     "output_type": "display_data"
    },
    {
     "data": {
      "application/vnd.jupyter.widget-view+json": {
       "model_id": "e8c6b62d436c4e9c9acb12dcd5d09f50",
       "version_major": 2,
       "version_minor": 0
      },
      "text/plain": [
       "Button(button_style='primary', description='CREATE CONTAINER', layout=Layout(height='35px', width='100%'), sty…"
      ]
     },
     "metadata": {},
     "output_type": "display_data"
    },
    {
     "data": {
      "application/vnd.jupyter.widget-view+json": {
       "model_id": "2658d20285c9434dbbfdf6205b2d8a2b",
       "version_major": 2,
       "version_minor": 0
      },
      "text/plain": [
       "Output(layout=Layout(border='1px solid black'))"
      ]
     },
     "metadata": {},
     "output_type": "display_data"
    }
   ],
   "source": [
    "from ogscm.jupyter import setup_ui\n",
    "\n",
    "def run_cmd(cmd):\n",
    "    print(f\"Executing: {cmd}\")\n",
    "    !poetry run {cmd}\n",
    "\n",
    "out = setup_ui(run_cmd)"
   ]
  },
  {
   "cell_type": "code",
   "execution_count": null,
   "id": "b9c0249b-f350-4a0f-b903-cc4354c4c89b",
   "metadata": {},
   "outputs": [],
   "source": [
    "from ogscm.jupyter import display_download_link\n",
    "display_download_link(out.outputs[0]['text'])"
   ]
  },
  {
   "cell_type": "code",
   "execution_count": null,
   "id": "a5189654-2d4d-4f6f-a779-0d9c3d4e1846",
   "metadata": {},
   "outputs": [],
   "source": []
  }
 ],
 "metadata": {
  "kernelspec": {
   "display_name": "container-maker",
   "language": "python",
   "name": "container-maker"
  },
  "language_info": {
   "codemirror_mode": {
    "name": "ipython",
    "version": 3
   },
   "file_extension": ".py",
   "mimetype": "text/x-python",
   "name": "python",
   "nbconvert_exporter": "python",
   "pygments_lexer": "ipython3",
   "version": "3.9.3"
  },
  "widgets": {
   "application/vnd.jupyter.widget-state+json": {
    "state": {
     "01065f6ec438485bb793af74d544231c": {
      "model_module": "@jupyter-widgets/controls",
      "model_module_version": "1.5.0",
      "model_name": "DescriptionStyleModel",
      "state": {
       "description_width": ""
      }
     },
     "01252e9decf34f1a90d52d3571ba5386": {
      "model_module": "@jupyter-widgets/controls",
      "model_module_version": "1.5.0",
      "model_name": "DescriptionStyleModel",
      "state": {
       "description_width": ""
      }
     },
     "0276e46fb427481d9e530ae972fd25d0": {
      "model_module": "@jupyter-widgets/controls",
      "model_module_version": "1.5.0",
      "model_name": "GridBoxModel",
      "state": {
       "children": [
        "IPY_MODEL_1af40c344e734aa49281dad145ed1cf8",
        "IPY_MODEL_97b98a4d0c1d4da4aa27994046ec1bed",
        "IPY_MODEL_c23c350993a8477f8c0ccd2968b473e3",
        "IPY_MODEL_e43ff81fce404e2f857dbeffc34c8d5a",
        "IPY_MODEL_44ad650bd73b4f63adb6517f9ad9a79f",
        "IPY_MODEL_8549a227e985456dbe2cc6629f282a39",
        "IPY_MODEL_f558e30d4391463286673f174a84c3a8",
        "IPY_MODEL_bb18a6bfc991449bab2bf31b4ff0b7f3",
        "IPY_MODEL_5a7067964fb941c689acbb21ee02b88d",
        "IPY_MODEL_a1e280730b464bde8ff74fdefa1bbcc5",
        "IPY_MODEL_176d080c89fb41ff90ebff4d825f7cdd",
        "IPY_MODEL_414c9a36c8be4516af7ecc6ff9305c33",
        "IPY_MODEL_587de9635bb144d9996733f31f34e408",
        "IPY_MODEL_7bbf49b90df74600a7a9563700fd4ec8",
        "IPY_MODEL_8fbf88ccc0904f51aa92a0d11a2d0bff",
        "IPY_MODEL_f9a5cfdae8c54be3b5a0eba8937761a4",
        "IPY_MODEL_51d6e3cfe0e04153ad37ccb157d36066",
        "IPY_MODEL_fb2bb176f2f1420d81930e3c98087bbe",
        "IPY_MODEL_e2c316ae89304220be56b55a2a54cba4",
        "IPY_MODEL_2f3e89f19b624fd79bc667343cf36200",
        "IPY_MODEL_270874b017564218a2f2a4b7bf6abede",
        "IPY_MODEL_032beaadb06147ebaf680b861bbc8644",
        "IPY_MODEL_8262c0e563da46229296c72c26579fdd",
        "IPY_MODEL_8b519486ba0a4c8eb74ed4002824846f",
        "IPY_MODEL_4c95f78292224a04993a426fd3393ec4",
        "IPY_MODEL_2b2a57b267aa4398a63c37fbb42b1da3",
        "IPY_MODEL_3a1e0b3009304e909283cac87501586f",
        "IPY_MODEL_8e11f7e672934d0e9a195511a05c629f",
        "IPY_MODEL_cc94f663b9504d25a00314c4259da094",
        "IPY_MODEL_23eb49324d7449b7ae05a1284f502ce6"
       ],
       "layout": "IPY_MODEL_5d94d0e259614484a28505962c497263"
      }
     },
     "032beaadb06147ebaf680b861bbc8644": {
      "model_module": "@jupyter-widgets/controls",
      "model_module_version": "1.5.0",
      "model_name": "CheckboxModel",
      "state": {
       "description": "Install tfel and build OGS with -DOGS_USE_MFRONT=ON",
       "disabled": false,
       "layout": "IPY_MODEL_bb1b0f3ea21a45bcbafee73383d2c2ba",
       "style": "IPY_MODEL_e79801a3d80f4f92ab0d7697004d3415",
       "value": false
      }
     },
     "034cb23426bc4e5d954ac8075915f8ba": {
      "model_module": "@jupyter-widgets/controls",
      "model_module_version": "1.5.0",
      "model_name": "DescriptionStyleModel",
      "state": {
       "description_width": ""
      }
     },
     "038e949b1ff146078984a900b6eb433f": {
      "model_module": "@jupyter-widgets/base",
      "model_module_version": "1.2.0",
      "model_name": "LayoutModel",
      "state": {}
     },
     "086dbb8913864fb282c204a0f583e72b": {
      "model_module": "@jupyter-widgets/base",
      "model_module_version": "1.2.0",
      "model_name": "LayoutModel",
      "state": {}
     },
     "0988424a37b345068843b88c10af7951": {
      "model_module": "@jupyter-widgets/base",
      "model_module_version": "1.2.0",
      "model_name": "LayoutModel",
      "state": {}
     },
     "09b214dd10f9470e90f2affdee0a4076": {
      "model_module": "@jupyter-widgets/controls",
      "model_module_version": "1.5.0",
      "model_name": "DescriptionStyleModel",
      "state": {
       "description_width": ""
      }
     },
     "0adcf16adb624d79855fe30ba3c38d30": {
      "model_module": "@jupyter-widgets/controls",
      "model_module_version": "1.5.0",
      "model_name": "ButtonStyleModel",
      "state": {}
     },
     "0b35f2628cb64d01a273d04a18169735": {
      "model_module": "@jupyter-widgets/controls",
      "model_module_version": "1.5.0",
      "model_name": "LabelModel",
      "state": {
       "layout": "IPY_MODEL_a7f25fd302294f72b2f1c445a8004aa6",
       "style": "IPY_MODEL_d0e942d105cf4ba6b02438afbf77a76e",
       "value": "--build_args"
      }
     },
     "0b4355e7665542cb861aed17dca78e08": {
      "model_module": "@jupyter-widgets/controls",
      "model_module_version": "1.5.0",
      "model_name": "DescriptionStyleModel",
      "state": {
       "description_width": ""
      }
     },
     "0b747077280a448b82f1f8a26a88af03": {
      "model_module": "@jupyter-widgets/controls",
      "model_module_version": "1.5.0",
      "model_name": "DescriptionStyleModel",
      "state": {
       "description_width": ""
      }
     },
     "0c13e6f5fb47438298c5812a5b8ea605": {
      "model_module": "@jupyter-widgets/base",
      "model_module_version": "1.2.0",
      "model_name": "LayoutModel",
      "state": {}
     },
     "0c956bf038834ef385608156c3dff193": {
      "model_module": "@jupyter-widgets/controls",
      "model_module_version": "1.5.0",
      "model_name": "DescriptionStyleModel",
      "state": {
       "description_width": ""
      }
     },
     "0dde439112f64be8a1a47a1c2a8d9c90": {
      "model_module": "@jupyter-widgets/controls",
      "model_module_version": "1.5.0",
      "model_name": "LabelModel",
      "state": {
       "layout": "IPY_MODEL_3cca9d6eca4243d7a30f22c7286c6646",
       "style": "IPY_MODEL_ea4d6dee36d346a880c9d4377af12734",
       "value": "--base_image"
      }
     },
     "0de6107ff8604abb8174ab0e13c9c0f4": {
      "model_module": "@jupyter-widgets/base",
      "model_module_version": "1.2.0",
      "model_name": "LayoutModel",
      "state": {}
     },
     "0dee5d81185b4b11835da0d1bc02e1cc": {
      "model_module": "@jupyter-widgets/controls",
      "model_module_version": "1.5.0",
      "model_name": "LabelModel",
      "state": {
       "layout": "IPY_MODEL_2c940511690a46c3a17dfc076dacd409",
       "style": "IPY_MODEL_6c140b78d6664ff8a3e2c28b46a5e606",
       "value": "--registry"
      }
     },
     "0f06acfde6cc45c2ab3204173445db53": {
      "model_module": "@jupyter-widgets/controls",
      "model_module_version": "1.5.0",
      "model_name": "LabelModel",
      "state": {
       "layout": "IPY_MODEL_c3671bfdad164bdab48419fd99daac6a",
       "style": "IPY_MODEL_8aca44520ab84b11899ddd3c9196619d",
       "value": "--compiler"
      }
     },
     "0fac98753af74ec5a2a473833d521df1": {
      "model_module": "@jupyter-widgets/controls",
      "model_module_version": "1.5.0",
      "model_name": "TextModel",
      "state": {
       "description": "(?)",
       "description_tooltip": "Overwrite output singularity image file name",
       "layout": "IPY_MODEL_456a59ada1fa41a3b399e8d193caf79f",
       "placeholder": "",
       "style": "IPY_MODEL_0b747077280a448b82f1f8a26a88af03"
      }
     },
     "105bbcec3d27402d97a36394c512174b": {
      "model_module": "@jupyter-widgets/controls",
      "model_module_version": "1.5.0",
      "model_name": "DescriptionStyleModel",
      "state": {
       "description_width": ""
      }
     },
     "1207a2ca9db54cb0bd683739ced54747": {
      "model_module": "@jupyter-widgets/base",
      "model_module_version": "1.2.0",
      "model_name": "LayoutModel",
      "state": {}
     },
     "13cc0f8771694366a49c92e044ff2e79": {
      "model_module": "@jupyter-widgets/base",
      "model_module_version": "1.2.0",
      "model_name": "LayoutModel",
      "state": {}
     },
     "1476abff7b9045c5b8c3d3334ab37da1": {
      "model_module": "@jupyter-widgets/controls",
      "model_module_version": "1.5.0",
      "model_name": "CheckboxModel",
      "state": {
       "description": "Forces overwriting of image files!",
       "disabled": false,
       "layout": "IPY_MODEL_2b3c3827fa9347bdbaad0d684923ef1f",
       "style": "IPY_MODEL_2379931a7fc04ea19fbc6b8c8cbc7703",
       "value": false
      }
     },
     "150100570d9d443da7ddb9511d07dc2d": {
      "model_module": "@jupyter-widgets/controls",
      "model_module_version": "1.5.0",
      "model_name": "DescriptionStyleModel",
      "state": {
       "description_width": ""
      }
     },
     "159f01ff5cf34e3d83b5dce43c7b3e15": {
      "model_module": "@jupyter-widgets/controls",
      "model_module_version": "1.5.0",
      "model_name": "DescriptionStyleModel",
      "state": {
       "description_width": ""
      }
     },
     "176d080c89fb41ff90ebff4d825f7cdd": {
      "model_module": "@jupyter-widgets/controls",
      "model_module_version": "1.5.0",
      "model_name": "LabelModel",
      "state": {
       "layout": "IPY_MODEL_3f7150a26a2f4b9fb73cc5d977b0fa2b",
       "style": "IPY_MODEL_57231717de3047afaa9f5aeb662c6ba5",
       "value": "--gui"
      }
     },
     "17d67e0408bf4be782c24910a1c62fe9": {
      "model_module": "@jupyter-widgets/base",
      "model_module_version": "1.2.0",
      "model_name": "LayoutModel",
      "state": {
       "border": "1px solid black"
      }
     },
     "186110e357c8418e8dc27ed20480d77d": {
      "model_module": "@jupyter-widgets/base",
      "model_module_version": "1.2.0",
      "model_name": "LayoutModel",
      "state": {}
     },
     "1a1787ab5a0f46399097d4a4bd2bcfb9": {
      "model_module": "@jupyter-widgets/base",
      "model_module_version": "1.2.0",
      "model_name": "LayoutModel",
      "state": {}
     },
     "1aeb91071280430588a7398abdb1b924": {
      "model_module": "@jupyter-widgets/controls",
      "model_module_version": "1.5.0",
      "model_name": "TextModel",
      "state": {
       "description": "(?)",
       "description_tooltip": "Install additional Python packages",
       "layout": "IPY_MODEL_665b112a80fa41b489a9c51f0f79041e",
       "placeholder": "[]",
       "style": "IPY_MODEL_01252e9decf34f1a90d52d3571ba5386"
      }
     },
     "1af40c344e734aa49281dad145ed1cf8": {
      "model_module": "@jupyter-widgets/controls",
      "model_module_version": "1.5.0",
      "model_name": "LabelModel",
      "state": {
       "layout": "IPY_MODEL_8237659da21544fe864398a170791e3b",
       "style": "IPY_MODEL_9270dd57149e4a16a740350a558ade0b",
       "value": "--pm"
      }
     },
     "1c0ac7bf2cd1415989f140698e803d59": {
      "model_module": "@jupyter-widgets/controls",
      "model_module_version": "1.5.0",
      "model_name": "DescriptionStyleModel",
      "state": {
       "description_width": ""
      }
     },
     "1dd57f2e12d74aabb48c43cff346f751": {
      "model_module": "@jupyter-widgets/controls",
      "model_module_version": "1.5.0",
      "model_name": "TextModel",
      "state": {
       "description": "(?)",
       "description_tooltip": "The full docker image tag. Overwrites --registry.",
       "layout": "IPY_MODEL_fad4c598b4204636aec21bce5a924948",
       "placeholder": "",
       "style": "IPY_MODEL_ef0dcbe30a9e48889b7545084669eef0"
      }
     },
     "1f1b13e727034ec9984fe023e3e52615": {
      "model_module": "@jupyter-widgets/base",
      "model_module_version": "1.2.0",
      "model_name": "LayoutModel",
      "state": {}
     },
     "1f6c27444914497dacc27711cd288f1b": {
      "model_module": "@jupyter-widgets/controls",
      "model_module_version": "1.5.0",
      "model_name": "DescriptionStyleModel",
      "state": {
       "description_width": ""
      }
     },
     "204c4f3f42a64aadab2dabe33a8c01a2": {
      "model_module": "@jupyter-widgets/base",
      "model_module_version": "1.2.0",
      "model_name": "LayoutModel",
      "state": {}
     },
     "20fa92d3f0a34b5cb6acde4783e558c5": {
      "model_module": "@jupyter-widgets/base",
      "model_module_version": "1.2.0",
      "model_name": "LayoutModel",
      "state": {}
     },
     "2379931a7fc04ea19fbc6b8c8cbc7703": {
      "model_module": "@jupyter-widgets/controls",
      "model_module_version": "1.5.0",
      "model_name": "DescriptionStyleModel",
      "state": {
       "description_width": ""
      }
     },
     "23eb49324d7449b7ae05a1284f502ce6": {
      "model_module": "@jupyter-widgets/controls",
      "model_module_version": "1.5.0",
      "model_name": "TextModel",
      "state": {
       "description": "(?)",
       "description_tooltip": "OGS versions.json file",
       "layout": "IPY_MODEL_ba5f2b47a5c749e3b5130b43a148b247",
       "placeholder": "None",
       "style": "IPY_MODEL_8ca6f51e40f74875bb71a0ee8a91d580"
      }
     },
     "245e3396b96c44cabe81059b6c4a8b19": {
      "model_module": "@jupyter-widgets/controls",
      "model_module_version": "1.5.0",
      "model_name": "VBoxModel",
      "state": {
       "children": [
        "IPY_MODEL_a7c6a6a0634844f7ae228650f08121ed",
        "IPY_MODEL_89319c65cf8643138a442b4ee697ad95"
       ],
       "layout": "IPY_MODEL_7bec5fe937074a55a77ef6072796aa8a"
      }
     },
     "250c74302ff2483d8f8ed115ebfa7aa9": {
      "model_module": "@jupyter-widgets/base",
      "model_module_version": "1.2.0",
      "model_name": "LayoutModel",
      "state": {
       "grid_gap": "10px 10px",
       "grid_template_columns": "150px auto 150px auto",
       "grid_template_rows": "auto"
      }
     },
     "2658d20285c9434dbbfdf6205b2d8a2b": {
      "model_module": "@jupyter-widgets/output",
      "model_module_version": "1.0.0",
      "model_name": "OutputModel",
      "state": {
       "layout": "IPY_MODEL_17d67e0408bf4be782c24910a1c62fe9",
       "outputs": [
        {
         "name": "stdout",
         "output_type": "stream",
         "text": "Executing: ogscm  compiler.py mpi.py --build --build_args \"'--progress=plain'\" --convert\nOpenMPI is supported on CentOS only! Please supply --base_image 'centos:8' parameter!\n"
        }
       ]
      }
     },
     "270874b017564218a2f2a4b7bf6abede": {
      "model_module": "@jupyter-widgets/controls",
      "model_module_version": "1.5.0",
      "model_name": "LabelModel",
      "state": {
       "layout": "IPY_MODEL_be54cdec3b8a4c4dabce559e2f049921",
       "style": "IPY_MODEL_01065f6ec438485bb793af74d544231c",
       "value": "--mfront"
      }
     },
     "28eb6267c5354ff4a4bd2619a09c6368": {
      "model_module": "@jupyter-widgets/base",
      "model_module_version": "1.2.0",
      "model_name": "LayoutModel",
      "state": {
       "grid_gap": "10px 10px",
       "grid_template_columns": "150px auto 150px auto",
       "grid_template_rows": "auto"
      }
     },
     "29cfddfdcbb84b51872e6ffbcc820481": {
      "model_module": "@jupyter-widgets/controls",
      "model_module_version": "1.5.0",
      "model_name": "DescriptionStyleModel",
      "state": {
       "description_width": ""
      }
     },
     "2a610c9dc1954f46a774cd9821551b19": {
      "model_module": "@jupyter-widgets/controls",
      "model_module_version": "1.5.0",
      "model_name": "DescriptionStyleModel",
      "state": {
       "description_width": ""
      }
     },
     "2b2a57b267aa4398a63c37fbb42b1da3": {
      "model_module": "@jupyter-widgets/controls",
      "model_module_version": "1.5.0",
      "model_name": "CheckboxModel",
      "state": {
       "description": "Installs development tools (vim, gdb)",
       "disabled": false,
       "layout": "IPY_MODEL_d57489766efc4d3d998ee31c98bb908e",
       "style": "IPY_MODEL_7391d58a358b4c94aca81a2293c55ad9",
       "value": false
      }
     },
     "2b3c3827fa9347bdbaad0d684923ef1f": {
      "model_module": "@jupyter-widgets/base",
      "model_module_version": "1.2.0",
      "model_name": "LayoutModel",
      "state": {}
     },
     "2bd992b6f1884aed8f887321889743ec": {
      "model_module": "@jupyter-widgets/base",
      "model_module_version": "1.2.0",
      "model_name": "LayoutModel",
      "state": {}
     },
     "2c501ab3a70447f5b732ddef18a13a41": {
      "model_module": "@jupyter-widgets/controls",
      "model_module_version": "1.5.0",
      "model_name": "DescriptionStyleModel",
      "state": {
       "description_width": ""
      }
     },
     "2c69a0e192354d18b83b5b2815f9495c": {
      "model_module": "@jupyter-widgets/controls",
      "model_module_version": "1.5.0",
      "model_name": "LabelModel",
      "state": {
       "layout": "IPY_MODEL_e5beaff668dc4c4f97ff0c13358b7d79",
       "style": "IPY_MODEL_105bbcec3d27402d97a36394c512174b",
       "value": "--enroot_file"
      }
     },
     "2c940511690a46c3a17dfc076dacd409": {
      "model_module": "@jupyter-widgets/base",
      "model_module_version": "1.2.0",
      "model_name": "LayoutModel",
      "state": {}
     },
     "2e0b57289e58462e8337608247036f12": {
      "model_module": "@jupyter-widgets/controls",
      "model_module_version": "1.5.0",
      "model_name": "DescriptionStyleModel",
      "state": {
       "description_width": ""
      }
     },
     "2f3e89f19b624fd79bc667343cf36200": {
      "model_module": "@jupyter-widgets/controls",
      "model_module_version": "1.5.0",
      "model_name": "CheckboxModel",
      "state": {
       "description": "Install gcovr",
       "disabled": false,
       "layout": "IPY_MODEL_fb4e02ab83ab4dedad60e852950b4c9c",
       "style": "IPY_MODEL_2e0b57289e58462e8337608247036f12",
       "value": false
      }
     },
     "30190e2ab27c475d910ca9378cac5bd0": {
      "model_module": "@jupyter-widgets/base",
      "model_module_version": "1.2.0",
      "model_name": "LayoutModel",
      "state": {}
     },
     "3258e2323f924c229d3da8fb77431bfe": {
      "model_module": "@jupyter-widgets/controls",
      "model_module_version": "1.5.0",
      "model_name": "CheckboxModel",
      "state": {
       "description": "Build the images from the definition files",
       "disabled": false,
       "layout": "IPY_MODEL_b98a50fa148646d8883995e7e21d730e",
       "style": "IPY_MODEL_faeb1824859f4e57bfad83ac8dec048f",
       "value": true
      }
     },
     "3290a2084cfa4e3ea20c83769a56446c": {
      "model_module": "@jupyter-widgets/base",
      "model_module_version": "1.2.0",
      "model_name": "LayoutModel",
      "state": {}
     },
     "39255eea6e13481b8c2555dcaf4e84e7": {
      "model_module": "@jupyter-widgets/base",
      "model_module_version": "1.2.0",
      "model_name": "LayoutModel",
      "state": {}
     },
     "3a0e8dba52c24391b08cc545da03770c": {
      "model_module": "@jupyter-widgets/base",
      "model_module_version": "1.2.0",
      "model_name": "LayoutModel",
      "state": {}
     },
     "3a1e0b3009304e909283cac87501586f": {
      "model_module": "@jupyter-widgets/controls",
      "model_module_version": "1.5.0",
      "model_name": "LabelModel",
      "state": {
       "layout": "IPY_MODEL_b9b7f373052d462b8edf58e09fdfa78b",
       "style": "IPY_MODEL_6a6f0eaf1c904e51ac2911325f7572d8",
       "value": "--mkl"
      }
     },
     "3a950051381a422ba30b62426a852fb2": {
      "model_module": "@jupyter-widgets/base",
      "model_module_version": "1.2.0",
      "model_name": "LayoutModel",
      "state": {}
     },
     "3b026f9073ba40f39adfe91afb27bde7": {
      "model_module": "@jupyter-widgets/controls",
      "model_module_version": "1.5.0",
      "model_name": "DescriptionStyleModel",
      "state": {
       "description_width": ""
      }
     },
     "3c59cd6365754dc28e1ca21021899930": {
      "model_module": "@jupyter-widgets/base",
      "model_module_version": "1.2.0",
      "model_name": "LayoutModel",
      "state": {}
     },
     "3cca9d6eca4243d7a30f22c7286c6646": {
      "model_module": "@jupyter-widgets/base",
      "model_module_version": "1.2.0",
      "model_name": "LayoutModel",
      "state": {}
     },
     "3f7150a26a2f4b9fb73cc5d977b0fa2b": {
      "model_module": "@jupyter-widgets/base",
      "model_module_version": "1.2.0",
      "model_name": "LayoutModel",
      "state": {}
     },
     "3faef6145c5742de8aa9e41243c2f16e": {
      "model_module": "@jupyter-widgets/controls",
      "model_module_version": "1.5.0",
      "model_name": "LabelModel",
      "state": {
       "layout": "IPY_MODEL_539566696fdf4c51b80056d1ccaf55c2",
       "style": "IPY_MODEL_150100570d9d443da7ddb9511d07dc2d",
       "value": "--tag"
      }
     },
     "40ac7830ab28403f9076c1c74b08d89b": {
      "model_module": "@jupyter-widgets/base",
      "model_module_version": "1.2.0",
      "model_name": "LayoutModel",
      "state": {}
     },
     "41446a890733426eba37efa5cfc205e0": {
      "model_module": "@jupyter-widgets/base",
      "model_module_version": "1.2.0",
      "model_name": "LayoutModel",
      "state": {}
     },
     "414c9a36c8be4516af7ecc6ff9305c33": {
      "model_module": "@jupyter-widgets/controls",
      "model_module_version": "1.5.0",
      "model_name": "CheckboxModel",
      "state": {
       "description": "Builds the GUI (Data Explorer)",
       "disabled": false,
       "layout": "IPY_MODEL_d6c217a4f19e42e58a8597f8a0b311c2",
       "style": "IPY_MODEL_574206562f494f47b7f2c38510611411",
       "value": false
      }
     },
     "44ad650bd73b4f63adb6517f9ad9a79f": {
      "model_module": "@jupyter-widgets/controls",
      "model_module_version": "1.5.0",
      "model_name": "LabelModel",
      "state": {
       "layout": "IPY_MODEL_0988424a37b345068843b88c10af7951",
       "style": "IPY_MODEL_74169770d7fe481185732485fc1551d2",
       "value": "--cmake_args"
      }
     },
     "4533911cfb3e4f94aecfeacdc7dd14d1": {
      "model_module": "@jupyter-widgets/controls",
      "model_module_version": "1.5.0",
      "model_name": "CheckboxModel",
      "state": {
       "description": "Generate multi-stage Dockerfiles for small runtime images",
       "disabled": false,
       "layout": "IPY_MODEL_30190e2ab27c475d910ca9378cac5bd0",
       "style": "IPY_MODEL_9fec6687c3874dafbfb54ac77eead3b5",
       "value": false
      }
     },
     "456a59ada1fa41a3b399e8d193caf79f": {
      "model_module": "@jupyter-widgets/base",
      "model_module_version": "1.2.0",
      "model_name": "LayoutModel",
      "state": {}
     },
     "458696c45674400c97711096af06d027": {
      "model_module": "@jupyter-widgets/controls",
      "model_module_version": "1.5.0",
      "model_name": "TextModel",
      "state": {
       "description": "(?)",
       "description_tooltip": "Arguments to the build command. Have to be quoted and **must** start with a space. E.g. --build_args ' --no-cache'",
       "layout": "IPY_MODEL_20fa92d3f0a34b5cb6acde4783e558c5",
       "placeholder": "",
       "style": "IPY_MODEL_4ddbb8c90efd416cae81d0c520cbbaf5",
       "value": "\"'--progress=plain'\""
      }
     },
     "467b2ba15c51494fa49c7f361974ffe6": {
      "model_module": "@jupyter-widgets/base",
      "model_module_version": "1.2.0",
      "model_name": "LayoutModel",
      "state": {}
     },
     "489868b75927442380e51fd3368e8035": {
      "model_module": "@jupyter-widgets/controls",
      "model_module_version": "1.5.0",
      "model_name": "DescriptionStyleModel",
      "state": {
       "description_width": ""
      }
     },
     "489906c70a02477396d33c152ec167b6": {
      "model_module": "@jupyter-widgets/controls",
      "model_module_version": "1.5.0",
      "model_name": "DescriptionStyleModel",
      "state": {
       "description_width": ""
      }
     },
     "493606d5d50f4832a281a0e1a413feb7": {
      "model_module": "@jupyter-widgets/base",
      "model_module_version": "1.2.0",
      "model_name": "LayoutModel",
      "state": {}
     },
     "4a7a23c974c14018bd5b776f963f5fba": {
      "model_module": "@jupyter-widgets/controls",
      "model_module_version": "1.5.0",
      "model_name": "CheckboxModel",
      "state": {
       "description": "Upload Docker image to registry",
       "disabled": false,
       "layout": "IPY_MODEL_3a0e8dba52c24391b08cc545da03770c",
       "style": "IPY_MODEL_09b214dd10f9470e90f2affdee0a4076",
       "value": false
      }
     },
     "4a8c00ab1fe74497a89578f89e94c81b": {
      "model_module": "@jupyter-widgets/base",
      "model_module_version": "1.2.0",
      "model_name": "LayoutModel",
      "state": {}
     },
     "4bd6b75084274e4294311ed4a1201382": {
      "model_module": "@jupyter-widgets/base",
      "model_module_version": "1.2.0",
      "model_name": "LayoutModel",
      "state": {}
     },
     "4c95f78292224a04993a426fd3393ec4": {
      "model_module": "@jupyter-widgets/controls",
      "model_module_version": "1.5.0",
      "model_name": "LabelModel",
      "state": {
       "layout": "IPY_MODEL_41446a890733426eba37efa5cfc205e0",
       "style": "IPY_MODEL_8929e0ca2ebd4ffdb2c48353ee0b89b3",
       "value": "--dev"
      }
     },
     "4ceb8a3823064dcf911ce33f65952de3": {
      "model_module": "@jupyter-widgets/controls",
      "model_module_version": "1.5.0",
      "model_name": "TextModel",
      "state": {
       "description": "(?)",
       "description_tooltip": "",
       "layout": "IPY_MODEL_186110e357c8418e8dc27ed20480d77d",
       "placeholder": "docker",
       "style": "IPY_MODEL_9e8d190c78e6496090906e4b786da346"
      }
     },
     "4d357245400d4862af2a93d1291ae1bd": {
      "model_module": "@jupyter-widgets/base",
      "model_module_version": "1.2.0",
      "model_name": "LayoutModel",
      "state": {}
     },
     "4ddbb8c90efd416cae81d0c520cbbaf5": {
      "model_module": "@jupyter-widgets/controls",
      "model_module_version": "1.5.0",
      "model_name": "DescriptionStyleModel",
      "state": {
       "description_width": ""
      }
     },
     "4ecfcf550c054abdba61daa284126336": {
      "model_module": "@jupyter-widgets/base",
      "model_module_version": "1.2.0",
      "model_name": "LayoutModel",
      "state": {
       "grid_gap": "10px 10px",
       "grid_template_columns": "150px auto 150px auto",
       "grid_template_rows": "auto"
      }
     },
     "4f3bd77ab6884546b762293cfb57b136": {
      "model_module": "@jupyter-widgets/controls",
      "model_module_version": "1.5.0",
      "model_name": "DescriptionStyleModel",
      "state": {
       "description_width": ""
      }
     },
     "4fafcbd825ab41b29008c0c7a8149326": {
      "model_module": "@jupyter-widgets/controls",
      "model_module_version": "1.5.0",
      "model_name": "CheckboxModel",
      "state": {
       "description": "Convert Docker image to enroot image",
       "disabled": false,
       "layout": "IPY_MODEL_086dbb8913864fb282c204a0f583e72b",
       "style": "IPY_MODEL_62eab2f4b8a4484b9c2476a393f6053d",
       "value": false
      }
     },
     "50fa75a7c2074b1897e81aa6f8eb5385": {
      "model_module": "@jupyter-widgets/controls",
      "model_module_version": "1.5.0",
      "model_name": "DescriptionStyleModel",
      "state": {
       "description_width": ""
      }
     },
     "51be2b622a4b4db4b453c76ef9a934c1": {
      "model_module": "@jupyter-widgets/base",
      "model_module_version": "1.2.0",
      "model_name": "LayoutModel",
      "state": {}
     },
     "51d6e3cfe0e04153ad37ccb157d36066": {
      "model_module": "@jupyter-widgets/controls",
      "model_module_version": "1.5.0",
      "model_name": "LabelModel",
      "state": {
       "layout": "IPY_MODEL_e40fab7f27b843788c03f41f734f41aa",
       "style": "IPY_MODEL_94bf39ad889f4cf5b3bc5aa728bc2d5a",
       "value": "--cppcheck"
      }
     },
     "52f89a8d8fd84336a4d3a067688b1611": {
      "model_module": "@jupyter-widgets/base",
      "model_module_version": "1.2.0",
      "model_name": "LayoutModel",
      "state": {}
     },
     "530b3891f2db46409304c1bd0120f833": {
      "model_module": "@jupyter-widgets/controls",
      "model_module_version": "1.5.0",
      "model_name": "LabelModel",
      "state": {
       "layout": "IPY_MODEL_1a1787ab5a0f46399097d4a4bd2bcfb9",
       "style": "IPY_MODEL_5e97dee6e1514d9590426e9fa9a3a622",
       "value": "--mpi_benchmarks"
      }
     },
     "539566696fdf4c51b80056d1ccaf55c2": {
      "model_module": "@jupyter-widgets/base",
      "model_module_version": "1.2.0",
      "model_name": "LayoutModel",
      "state": {}
     },
     "561b4d94a2b64126a1284b4c40d7d5df": {
      "model_module": "@jupyter-widgets/base",
      "model_module_version": "1.2.0",
      "model_name": "LayoutModel",
      "state": {}
     },
     "57231717de3047afaa9f5aeb662c6ba5": {
      "model_module": "@jupyter-widgets/controls",
      "model_module_version": "1.5.0",
      "model_name": "DescriptionStyleModel",
      "state": {
       "description_width": ""
      }
     },
     "574206562f494f47b7f2c38510611411": {
      "model_module": "@jupyter-widgets/controls",
      "model_module_version": "1.5.0",
      "model_name": "DescriptionStyleModel",
      "state": {
       "description_width": ""
      }
     },
     "587de9635bb144d9996733f31f34e408": {
      "model_module": "@jupyter-widgets/controls",
      "model_module_version": "1.5.0",
      "model_name": "LabelModel",
      "state": {
       "layout": "IPY_MODEL_ec14edf0eb85485d84ac3b0ba8792b48",
       "style": "IPY_MODEL_e0c80d41f9c5439183ba5d838b88b8c8",
       "value": "--docs"
      }
     },
     "5a675e00ab6c473ba3d63f6ee123ee82": {
      "model_module": "@jupyter-widgets/base",
      "model_module_version": "1.2.0",
      "model_name": "LayoutModel",
      "state": {}
     },
     "5a7067964fb941c689acbb21ee02b88d": {
      "model_module": "@jupyter-widgets/controls",
      "model_module_version": "1.5.0",
      "model_name": "LabelModel",
      "state": {
       "layout": "IPY_MODEL_eb36f4913259463fbd9dda7b8c62d739",
       "style": "IPY_MODEL_1f6c27444914497dacc27711cd288f1b",
       "value": "--parallel"
      }
     },
     "5bd73bd029be4dcf8cc2e1649d174307": {
      "model_module": "@jupyter-widgets/base",
      "model_module_version": "1.2.0",
      "model_name": "LayoutModel",
      "state": {}
     },
     "5c1068c93a0d44199e4c30e82f98d49b": {
      "model_module": "@jupyter-widgets/controls",
      "model_module_version": "1.5.0",
      "model_name": "DescriptionStyleModel",
      "state": {
       "description_width": ""
      }
     },
     "5c31c026ada14541affcc4d140fd9287": {
      "model_module": "@jupyter-widgets/controls",
      "model_module_version": "1.5.0",
      "model_name": "LabelModel",
      "state": {
       "layout": "IPY_MODEL_038e949b1ff146078984a900b6eb433f",
       "style": "IPY_MODEL_c8c6a35cb65046b4997cc22caac31101",
       "value": "--ompi"
      }
     },
     "5d94d0e259614484a28505962c497263": {
      "model_module": "@jupyter-widgets/base",
      "model_module_version": "1.2.0",
      "model_name": "LayoutModel",
      "state": {
       "grid_gap": "10px 10px",
       "grid_template_columns": "150px auto 150px auto",
       "grid_template_rows": "auto"
      }
     },
     "5e97dee6e1514d9590426e9fa9a3a622": {
      "model_module": "@jupyter-widgets/controls",
      "model_module_version": "1.5.0",
      "model_name": "DescriptionStyleModel",
      "state": {
       "description_width": ""
      }
     },
     "5f6efc9d4e6840d2a734fb32d151a1c9": {
      "model_module": "@jupyter-widgets/controls",
      "model_module_version": "1.5.0",
      "model_name": "DescriptionStyleModel",
      "state": {
       "description_width": ""
      }
     },
     "611de28c89aa4d298eb591a1d1beb67b": {
      "model_module": "@jupyter-widgets/controls",
      "model_module_version": "1.5.0",
      "model_name": "DescriptionStyleModel",
      "state": {
       "description_width": ""
      }
     },
     "62eab2f4b8a4484b9c2476a393f6053d": {
      "model_module": "@jupyter-widgets/controls",
      "model_module_version": "1.5.0",
      "model_name": "DescriptionStyleModel",
      "state": {
       "description_width": ""
      }
     },
     "65c8f1e8e362424f8eca06b97b657352": {
      "model_module": "@jupyter-widgets/controls",
      "model_module_version": "1.5.0",
      "model_name": "DescriptionStyleModel",
      "state": {
       "description_width": ""
      }
     },
     "665b112a80fa41b489a9c51f0f79041e": {
      "model_module": "@jupyter-widgets/base",
      "model_module_version": "1.2.0",
      "model_name": "LayoutModel",
      "state": {}
     },
     "67a89ce9c9514716954f2c7b95db33b4": {
      "model_module": "@jupyter-widgets/controls",
      "model_module_version": "1.5.0",
      "model_name": "LabelModel",
      "state": {
       "layout": "IPY_MODEL_9a12f63ffce84e269598ad1ab1951bf9",
       "style": "IPY_MODEL_79261feb47d24ba6acf1132bc63939df",
       "value": "--packages"
      }
     },
     "69be746c09db4424b9cfb79488ae68ed": {
      "model_module": "@jupyter-widgets/controls",
      "model_module_version": "1.5.0",
      "model_name": "LabelModel",
      "state": {
       "layout": "IPY_MODEL_f82a290987b74d09ac0c34ce6054ec4f",
       "style": "IPY_MODEL_dcd934b2f4ad460c8b101f8c5501a2ea",
       "value": "--enroot-bundle"
      }
     },
     "69f4004817b3431482cc4bd676f2f918": {
      "model_module": "@jupyter-widgets/controls",
      "model_module_version": "1.5.0",
      "model_name": "CheckboxModel",
      "state": {
       "description": "Convert enroot image to enroot bundle",
       "disabled": false,
       "layout": "IPY_MODEL_a1825a9dd0664b99b439b5ff13dc591e",
       "style": "IPY_MODEL_9c6f00fb6ae945fabeb5fe4ba6c0cca7",
       "value": false
      }
     },
     "69fcb4971115473c8d9931fb371445d0": {
      "model_module": "@jupyter-widgets/controls",
      "model_module_version": "1.5.0",
      "model_name": "DescriptionStyleModel",
      "state": {
       "description_width": ""
      }
     },
     "6a6f0eaf1c904e51ac2911325f7572d8": {
      "model_module": "@jupyter-widgets/controls",
      "model_module_version": "1.5.0",
      "model_name": "DescriptionStyleModel",
      "state": {
       "description_width": ""
      }
     },
     "6c140b78d6664ff8a3e2c28b46a5e606": {
      "model_module": "@jupyter-widgets/controls",
      "model_module_version": "1.5.0",
      "model_name": "DescriptionStyleModel",
      "state": {
       "description_width": ""
      }
     },
     "7027fc17dba5491aae468426730d8b72": {
      "model_module": "@jupyter-widgets/controls",
      "model_module_version": "1.5.0",
      "model_name": "TextModel",
      "state": {
       "description": "(?)",
       "description_tooltip": "The compiler to use. Possible options: off, gcc, clang",
       "layout": "IPY_MODEL_204c4f3f42a64aadab2dabe33a8c01a2",
       "placeholder": "gcc",
       "style": "IPY_MODEL_c0bdc596ae1041219de8b780171895ac"
      }
     },
     "7391d58a358b4c94aca81a2293c55ad9": {
      "model_module": "@jupyter-widgets/controls",
      "model_module_version": "1.5.0",
      "model_name": "DescriptionStyleModel",
      "state": {
       "description_width": ""
      }
     },
     "74169770d7fe481185732485fc1551d2": {
      "model_module": "@jupyter-widgets/controls",
      "model_module_version": "1.5.0",
      "model_name": "DescriptionStyleModel",
      "state": {
       "description_width": ""
      }
     },
     "74b31a0c02b44d11971f686fbca7344d": {
      "model_module": "@jupyter-widgets/controls",
      "model_module_version": "1.5.0",
      "model_name": "DescriptionStyleModel",
      "state": {
       "description_width": ""
      }
     },
     "77d53e6571904aeb870c34ad937d1931": {
      "model_module": "@jupyter-widgets/base",
      "model_module_version": "1.2.0",
      "model_name": "LayoutModel",
      "state": {}
     },
     "786092b4b1a645d0be10d85166783d8d": {
      "model_module": "@jupyter-widgets/base",
      "model_module_version": "1.2.0",
      "model_name": "LayoutModel",
      "state": {}
     },
     "79261feb47d24ba6acf1132bc63939df": {
      "model_module": "@jupyter-widgets/controls",
      "model_module_version": "1.5.0",
      "model_name": "DescriptionStyleModel",
      "state": {
       "description_width": ""
      }
     },
     "7a5b1f5dbbe44efcae9edaf00762c29a": {
      "model_module": "@jupyter-widgets/controls",
      "model_module_version": "1.5.0",
      "model_name": "LabelModel",
      "state": {
       "layout": "IPY_MODEL_4d357245400d4862af2a93d1291ae1bd",
       "style": "IPY_MODEL_1c0ac7bf2cd1415989f140698e803d59",
       "value": "--convert-enroot"
      }
     },
     "7aa6cbced09640f198760b2ba0864fcb": {
      "model_module": "@jupyter-widgets/controls",
      "model_module_version": "1.5.0",
      "model_name": "DescriptionStyleModel",
      "state": {
       "description_width": ""
      }
     },
     "7bbf49b90df74600a7a9563700fd4ec8": {
      "model_module": "@jupyter-widgets/controls",
      "model_module_version": "1.5.0",
      "model_name": "CheckboxModel",
      "state": {
       "description": "Setup documentation requirements (Doxygen)",
       "disabled": false,
       "layout": "IPY_MODEL_8f9155721f1d4cf293bc887a719ae9d8",
       "style": "IPY_MODEL_944211965c9647e8af7a6ca1d441862c",
       "value": false
      }
     },
     "7bec5fe937074a55a77ef6072796aa8a": {
      "model_module": "@jupyter-widgets/base",
      "model_module_version": "1.2.0",
      "model_name": "LayoutModel",
      "state": {}
     },
     "7c5a59ff80f0413997b11c350d3f95e5": {
      "model_module": "@jupyter-widgets/controls",
      "model_module_version": "1.5.0",
      "model_name": "CheckboxModel",
      "state": {
       "description": "Install include-what-you-use (requires clang compiler)",
       "disabled": false,
       "layout": "IPY_MODEL_467b2ba15c51494fa49c7f361974ffe6",
       "style": "IPY_MODEL_8c878c5e4c2e40d4a5e0af9554144402",
       "value": false
      }
     },
     "7cc08123200342eeac1210f6d71336d2": {
      "model_module": "@jupyter-widgets/controls",
      "model_module_version": "1.5.0",
      "model_name": "DescriptionStyleModel",
      "state": {
       "description_width": ""
      }
     },
     "7d7bf32a6dd74501aad0e0ae654d3d73": {
      "model_module": "@jupyter-widgets/controls",
      "model_module_version": "1.5.0",
      "model_name": "DescriptionStyleModel",
      "state": {
       "description_width": ""
      }
     },
     "7fbaae64d7324992915c1d3597412276": {
      "model_module": "@jupyter-widgets/controls",
      "model_module_version": "1.5.0",
      "model_name": "VBoxModel",
      "state": {
       "children": [
        "IPY_MODEL_91a9f640738843a08b6cc6e71c0523dd",
        "IPY_MODEL_8d8fdb47cc42407898f421f9978e8fe0"
       ],
       "layout": "IPY_MODEL_fa7388bdcd1a4b4686a1955fa528e952"
      }
     },
     "801b4b141b984b6e8f29979970d85141": {
      "model_module": "@jupyter-widgets/base",
      "model_module_version": "1.2.0",
      "model_name": "LayoutModel",
      "state": {}
     },
     "8237659da21544fe864398a170791e3b": {
      "model_module": "@jupyter-widgets/base",
      "model_module_version": "1.2.0",
      "model_name": "LayoutModel",
      "state": {}
     },
     "8262c0e563da46229296c72c26579fdd": {
      "model_module": "@jupyter-widgets/controls",
      "model_module_version": "1.5.0",
      "model_name": "LabelModel",
      "state": {
       "layout": "IPY_MODEL_493606d5d50f4832a281a0e1a413feb7",
       "style": "IPY_MODEL_97b85ae6dedf4742ab42a1c4f3fa677f",
       "value": "--insitu"
      }
     },
     "832547b7bf9c42e4b2f8dd20701896b3": {
      "model_module": "@jupyter-widgets/controls",
      "model_module_version": "1.5.0",
      "model_name": "LabelModel",
      "state": {
       "layout": "IPY_MODEL_0de6107ff8604abb8174ab0e13c9c0f4",
       "style": "IPY_MODEL_e608df2526874471ab88fad84a8e0f5b",
       "value": "--build"
      }
     },
     "8549a227e985456dbe2cc6629f282a39": {
      "model_module": "@jupyter-widgets/controls",
      "model_module_version": "1.5.0",
      "model_name": "TextModel",
      "state": {
       "description": "(?)",
       "description_tooltip": "CMake argument set has to be quoted and **must** start with a space. e.g. --cmake_args ' -DFIRST=TRUE -DFOO=BAR'",
       "layout": "IPY_MODEL_9e0dbaf9a7d04ab7b1de100864f5dae2",
       "placeholder": "",
       "style": "IPY_MODEL_d696082452bc4f8ba2ec08014eee6355"
      }
     },
     "856798b926fa4b06bf8fd8acc0ef68b6": {
      "model_module": "@jupyter-widgets/controls",
      "model_module_version": "1.5.0",
      "model_name": "DescriptionStyleModel",
      "state": {
       "description_width": ""
      }
     },
     "858ff3f77de34e388f9b725cbb83e696": {
      "model_module": "@jupyter-widgets/base",
      "model_module_version": "1.2.0",
      "model_name": "LayoutModel",
      "state": {}
     },
     "86677f634dfc4db4a3cd7ce1df769d58": {
      "model_module": "@jupyter-widgets/controls",
      "model_module_version": "1.5.0",
      "model_name": "TextModel",
      "state": {
       "description": "(?)",
       "description_tooltip": "OpenMPI version, e.g. 2.1.1, 2.1.5, 3.0.1, 3.1.2",
       "layout": "IPY_MODEL_3290a2084cfa4e3ea20c83769a56446c",
       "placeholder": "4.0.5",
       "style": "IPY_MODEL_0b4355e7665542cb861aed17dca78e08"
      }
     },
     "8929e0ca2ebd4ffdb2c48353ee0b89b3": {
      "model_module": "@jupyter-widgets/controls",
      "model_module_version": "1.5.0",
      "model_name": "DescriptionStyleModel",
      "state": {
       "description_width": ""
      }
     },
     "89319c65cf8643138a442b4ee697ad95": {
      "model_module": "@jupyter-widgets/controls",
      "model_module_version": "1.5.0",
      "model_name": "GridBoxModel",
      "state": {
       "children": [
        "IPY_MODEL_0f06acfde6cc45c2ab3204173445db53",
        "IPY_MODEL_7027fc17dba5491aae468426730d8b72",
        "IPY_MODEL_c99fddbbf5754c639f3c6fa0658cec3d",
        "IPY_MODEL_b4421321210c4be7a8c4a1f707af31b9",
        "IPY_MODEL_8d533813dd6747268bc83927b9bcd7d2",
        "IPY_MODEL_7c5a59ff80f0413997b11c350d3f95e5"
       ],
       "layout": "IPY_MODEL_f33a292ff95f43f497073a73bd32486f"
      }
     },
     "8a7b10b348a64e98ab9dd274de71bd1f": {
      "model_module": "@jupyter-widgets/base",
      "model_module_version": "1.2.0",
      "model_name": "LayoutModel",
      "state": {}
     },
     "8aca44520ab84b11899ddd3c9196619d": {
      "model_module": "@jupyter-widgets/controls",
      "model_module_version": "1.5.0",
      "model_name": "DescriptionStyleModel",
      "state": {
       "description_width": ""
      }
     },
     "8b519486ba0a4c8eb74ed4002824846f": {
      "model_module": "@jupyter-widgets/controls",
      "model_module_version": "1.5.0",
      "model_name": "CheckboxModel",
      "state": {
       "description": "Builds with insitu capabilities",
       "disabled": false,
       "layout": "IPY_MODEL_d00adcf2e64b401cb316e74f9ad53193",
       "style": "IPY_MODEL_ef17ab9ffd5d473a9b65142e4fc714b4",
       "value": false
      }
     },
     "8c878c5e4c2e40d4a5e0af9554144402": {
      "model_module": "@jupyter-widgets/controls",
      "model_module_version": "1.5.0",
      "model_name": "DescriptionStyleModel",
      "state": {
       "description_width": ""
      }
     },
     "8ca6f51e40f74875bb71a0ee8a91d580": {
      "model_module": "@jupyter-widgets/controls",
      "model_module_version": "1.5.0",
      "model_name": "DescriptionStyleModel",
      "state": {
       "description_width": ""
      }
     },
     "8d533813dd6747268bc83927b9bcd7d2": {
      "model_module": "@jupyter-widgets/controls",
      "model_module_version": "1.5.0",
      "model_name": "LabelModel",
      "state": {
       "layout": "IPY_MODEL_bd5b6136f20b4ae5b79562221556c5d6",
       "style": "IPY_MODEL_611de28c89aa4d298eb591a1d1beb67b",
       "value": "--iwyy"
      }
     },
     "8d8fdb47cc42407898f421f9978e8fe0": {
      "model_module": "@jupyter-widgets/controls",
      "model_module_version": "1.5.0",
      "model_name": "GridBoxModel",
      "state": {
       "children": [
        "IPY_MODEL_5c31c026ada14541affcc4d140fd9287",
        "IPY_MODEL_86677f634dfc4db4a3cd7ce1df769d58",
        "IPY_MODEL_530b3891f2db46409304c1bd0120f833",
        "IPY_MODEL_9b0ff2c7989e41b19b633a1b0d3cadc6"
       ],
       "layout": "IPY_MODEL_f2d0e998020641bd9da64b3df548d765"
      }
     },
     "8df9c2b7d8a64595bc0e430e2f5a6cc8": {
      "model_module": "@jupyter-widgets/controls",
      "model_module_version": "1.5.0",
      "model_name": "DescriptionStyleModel",
      "state": {
       "description_width": ""
      }
     },
     "8e11f7e672934d0e9a195511a05c629f": {
      "model_module": "@jupyter-widgets/controls",
      "model_module_version": "1.5.0",
      "model_name": "CheckboxModel",
      "state": {
       "description": "Use MKL. By setting this option, you agree to the [Intel End User License Agreement](https://software.intel.com/en-us/articles/end-user-license-agreement).",
       "disabled": false,
       "layout": "IPY_MODEL_561b4d94a2b64126a1284b4c40d7d5df",
       "style": "IPY_MODEL_5f6efc9d4e6840d2a734fb32d151a1c9",
       "value": false
      }
     },
     "8ee8a19cde624d89b54558e701a70d72": {
      "model_module": "@jupyter-widgets/controls",
      "model_module_version": "1.5.0",
      "model_name": "ToggleButtonModel",
      "state": {
       "button_style": "success",
       "description": "Enabled",
       "icon": "check",
       "layout": "IPY_MODEL_c274e7d0fb6f4d879717a69a1a1a49fc",
       "style": "IPY_MODEL_90e906fe5bd44e4f83c6bf83c9842aa1",
       "value": true
      }
     },
     "8f9155721f1d4cf293bc887a719ae9d8": {
      "model_module": "@jupyter-widgets/base",
      "model_module_version": "1.2.0",
      "model_name": "LayoutModel",
      "state": {}
     },
     "8fbf88ccc0904f51aa92a0d11a2d0bff": {
      "model_module": "@jupyter-widgets/controls",
      "model_module_version": "1.5.0",
      "model_name": "LabelModel",
      "state": {
       "layout": "IPY_MODEL_13cc0f8771694366a49c92e044ff2e79",
       "style": "IPY_MODEL_29cfddfdcbb84b51872e6ffbcc820481",
       "value": "--cvode"
      }
     },
     "9081e2086a45484ea57bc4d82d9758b8": {
      "model_module": "@jupyter-widgets/controls",
      "model_module_version": "1.5.0",
      "model_name": "DescriptionStyleModel",
      "state": {
       "description_width": ""
      }
     },
     "90e906fe5bd44e4f83c6bf83c9842aa1": {
      "model_module": "@jupyter-widgets/controls",
      "model_module_version": "1.5.0",
      "model_name": "DescriptionStyleModel",
      "state": {
       "description_width": ""
      }
     },
     "91a9f640738843a08b6cc6e71c0523dd": {
      "model_module": "@jupyter-widgets/controls",
      "model_module_version": "1.5.0",
      "model_name": "ToggleButtonModel",
      "state": {
       "description": "Disabled",
       "layout": "IPY_MODEL_5a675e00ab6c473ba3d63f6ee123ee82",
       "style": "IPY_MODEL_65c8f1e8e362424f8eca06b97b657352"
      }
     },
     "91ce5c96b3824b9aaa9e676b1e69bc9a": {
      "model_module": "@jupyter-widgets/controls",
      "model_module_version": "1.5.0",
      "model_name": "DescriptionStyleModel",
      "state": {
       "description_width": ""
      }
     },
     "9270dd57149e4a16a740350a558ade0b": {
      "model_module": "@jupyter-widgets/controls",
      "model_module_version": "1.5.0",
      "model_name": "DescriptionStyleModel",
      "state": {
       "description_width": ""
      }
     },
     "944211965c9647e8af7a6ca1d441862c": {
      "model_module": "@jupyter-widgets/controls",
      "model_module_version": "1.5.0",
      "model_name": "DescriptionStyleModel",
      "state": {
       "description_width": ""
      }
     },
     "945c2ef3fa1c40d1a59808e28e8603fd": {
      "model_module": "@jupyter-widgets/base",
      "model_module_version": "1.2.0",
      "model_name": "LayoutModel",
      "state": {}
     },
     "94bdf591a8fa400d9acad22a882819f1": {
      "model_module": "@jupyter-widgets/controls",
      "model_module_version": "1.5.0",
      "model_name": "LabelModel",
      "state": {
       "layout": "IPY_MODEL_dfdd44f889024479be8843a1aac6f9ee",
       "style": "IPY_MODEL_9750e5f43d0846f1b18cddf9e71da8f9",
       "value": "--runtime-only"
      }
     },
     "94bf39ad889f4cf5b3bc5aa728bc2d5a": {
      "model_module": "@jupyter-widgets/controls",
      "model_module_version": "1.5.0",
      "model_name": "DescriptionStyleModel",
      "state": {
       "description_width": ""
      }
     },
     "9750e5f43d0846f1b18cddf9e71da8f9": {
      "model_module": "@jupyter-widgets/controls",
      "model_module_version": "1.5.0",
      "model_name": "DescriptionStyleModel",
      "state": {
       "description_width": ""
      }
     },
     "97b85ae6dedf4742ab42a1c4f3fa677f": {
      "model_module": "@jupyter-widgets/controls",
      "model_module_version": "1.5.0",
      "model_name": "DescriptionStyleModel",
      "state": {
       "description_width": ""
      }
     },
     "97b98a4d0c1d4da4aa27994046ec1bed": {
      "model_module": "@jupyter-widgets/controls",
      "model_module_version": "1.5.0",
      "model_name": "TextModel",
      "state": {
       "description": "(?)",
       "description_tooltip": "Package manager to install third-party dependencies",
       "layout": "IPY_MODEL_dc8f300ade3f4f89aecdf289271f1e07",
       "placeholder": "system",
       "style": "IPY_MODEL_9081e2086a45484ea57bc4d82d9758b8"
      }
     },
     "9a12f63ffce84e269598ad1ab1951bf9": {
      "model_module": "@jupyter-widgets/base",
      "model_module_version": "1.2.0",
      "model_name": "LayoutModel",
      "state": {}
     },
     "9b0ff2c7989e41b19b633a1b0d3cadc6": {
      "model_module": "@jupyter-widgets/controls",
      "model_module_version": "1.5.0",
      "model_name": "CheckboxModel",
      "state": {
       "description": "Installs OSU MPI benchmarks and mpi_bw, mpi_ring, mpi_hello",
       "disabled": false,
       "layout": "IPY_MODEL_77d53e6571904aeb870c34ad937d1931",
       "style": "IPY_MODEL_ecdaea1e430b4ba7b2e136beb65ab6f3",
       "value": false
      }
     },
     "9c6f00fb6ae945fabeb5fe4ba6c0cca7": {
      "model_module": "@jupyter-widgets/controls",
      "model_module_version": "1.5.0",
      "model_name": "DescriptionStyleModel",
      "state": {
       "description_width": ""
      }
     },
     "9c8a3c0e63f1498e89dc120a50113901": {
      "model_module": "@jupyter-widgets/controls",
      "model_module_version": "1.5.0",
      "model_name": "TextModel",
      "state": {
       "description": "(?)",
       "description_tooltip": "The base image. (centos:8 is supported too)",
       "layout": "IPY_MODEL_bba838697ed24ed69f19400b62f6d510",
       "placeholder": "ubuntu:20.04",
       "style": "IPY_MODEL_c8c7d4ef7ed546f5a48113f1cc3055f2"
      }
     },
     "9de0ad0e8ac44b1eb98a387911e84a33": {
      "model_module": "@jupyter-widgets/base",
      "model_module_version": "1.2.0",
      "model_name": "LayoutModel",
      "state": {
       "height": "35px",
       "width": "100%"
      }
     },
     "9e0dbaf9a7d04ab7b1de100864f5dae2": {
      "model_module": "@jupyter-widgets/base",
      "model_module_version": "1.2.0",
      "model_name": "LayoutModel",
      "state": {}
     },
     "9e8d190c78e6496090906e4b786da346": {
      "model_module": "@jupyter-widgets/controls",
      "model_module_version": "1.5.0",
      "model_name": "DescriptionStyleModel",
      "state": {
       "description_width": ""
      }
     },
     "9fec6687c3874dafbfb54ac77eead3b5": {
      "model_module": "@jupyter-widgets/controls",
      "model_module_version": "1.5.0",
      "model_name": "DescriptionStyleModel",
      "state": {
       "description_width": ""
      }
     },
     "a1825a9dd0664b99b439b5ff13dc591e": {
      "model_module": "@jupyter-widgets/base",
      "model_module_version": "1.2.0",
      "model_name": "LayoutModel",
      "state": {}
     },
     "a1e280730b464bde8ff74fdefa1bbcc5": {
      "model_module": "@jupyter-widgets/controls",
      "model_module_version": "1.5.0",
      "model_name": "TextModel",
      "state": {
       "description": "(?)",
       "description_tooltip": "The number of cores to use for compilation.",
       "layout": "IPY_MODEL_4a8c00ab1fe74497a89578f89e94c81b",
       "placeholder": "32",
       "style": "IPY_MODEL_50fa75a7c2074b1897e81aa6f8eb5385"
      }
     },
     "a2e8275c31b04d69a8ea33b0211e8741": {
      "model_module": "@jupyter-widgets/base",
      "model_module_version": "1.2.0",
      "model_name": "LayoutModel",
      "state": {}
     },
     "a7c6a6a0634844f7ae228650f08121ed": {
      "model_module": "@jupyter-widgets/controls",
      "model_module_version": "1.5.0",
      "model_name": "ToggleButtonModel",
      "state": {
       "button_style": "success",
       "description": "Enabled",
       "icon": "check",
       "layout": "IPY_MODEL_8a7b10b348a64e98ab9dd274de71bd1f",
       "style": "IPY_MODEL_74b31a0c02b44d11971f686fbca7344d",
       "value": true
      }
     },
     "a7f25fd302294f72b2f1c445a8004aa6": {
      "model_module": "@jupyter-widgets/base",
      "model_module_version": "1.2.0",
      "model_name": "LayoutModel",
      "state": {}
     },
     "a92cb290669d4b71a950accb6dcbdf0c": {
      "model_module": "@jupyter-widgets/controls",
      "model_module_version": "1.5.0",
      "model_name": "GridBoxModel",
      "state": {
       "children": [
        "IPY_MODEL_832547b7bf9c42e4b2f8dd20701896b3",
        "IPY_MODEL_3258e2323f924c229d3da8fb77431bfe",
        "IPY_MODEL_0b35f2628cb64d01a273d04a18169735",
        "IPY_MODEL_458696c45674400c97711096af06d027",
        "IPY_MODEL_f8eb7171aae2434b9953541f2c1f73f2",
        "IPY_MODEL_4a7a23c974c14018bd5b776f963f5fba",
        "IPY_MODEL_0dee5d81185b4b11835da0d1bc02e1cc",
        "IPY_MODEL_faf396f7111346e0bda2d23cc09fc7b3",
        "IPY_MODEL_3faef6145c5742de8aa9e41243c2f16e",
        "IPY_MODEL_1dd57f2e12d74aabb48c43cff346f751",
        "IPY_MODEL_f83ebd7f7e784bc296cdf0f54666ee84",
        "IPY_MODEL_e09d45ea741948c788e59a4f78edf603",
        "IPY_MODEL_db17136d63984d508ea606a302887068",
        "IPY_MODEL_0fac98753af74ec5a2a473833d521df1",
        "IPY_MODEL_7a5b1f5dbbe44efcae9edaf00762c29a",
        "IPY_MODEL_4fafcbd825ab41b29008c0c7a8149326",
        "IPY_MODEL_69be746c09db4424b9cfb79488ae68ed",
        "IPY_MODEL_69f4004817b3431482cc4bd676f2f918",
        "IPY_MODEL_2c69a0e192354d18b83b5b2815f9495c",
        "IPY_MODEL_bbb861c5a739443789c3892373685254",
        "IPY_MODEL_eb1b138c12454f4c9979c14dd62d961b",
        "IPY_MODEL_1476abff7b9045c5b8c3d3334ab37da1",
        "IPY_MODEL_94bdf591a8fa400d9acad22a882819f1",
        "IPY_MODEL_4533911cfb3e4f94aecfeacdc7dd14d1"
       ],
       "layout": "IPY_MODEL_250c74302ff2483d8f8ed115ebfa7aa9"
      }
     },
     "aa040e14d0244ff9af46ff4f450a19c2": {
      "model_module": "@jupyter-widgets/base",
      "model_module_version": "1.2.0",
      "model_name": "LayoutModel",
      "state": {}
     },
     "ac5773327e674ecda44f719a410a6e48": {
      "model_module": "@jupyter-widgets/controls",
      "model_module_version": "1.5.0",
      "model_name": "DescriptionStyleModel",
      "state": {
       "description_width": ""
      }
     },
     "af476aee94584a4196c1c19579516cf8": {
      "model_module": "@jupyter-widgets/base",
      "model_module_version": "1.2.0",
      "model_name": "LayoutModel",
      "state": {}
     },
     "af997ba0423d420e9835c52ee9c1c59b": {
      "model_module": "@jupyter-widgets/controls",
      "model_module_version": "1.5.0",
      "model_name": "VBoxModel",
      "state": {
       "children": [
        "IPY_MODEL_8ee8a19cde624d89b54558e701a70d72",
        "IPY_MODEL_0276e46fb427481d9e530ae972fd25d0"
       ],
       "layout": "IPY_MODEL_786092b4b1a645d0be10d85166783d8d"
      }
     },
     "b4421321210c4be7a8c4a1f707af31b9": {
      "model_module": "@jupyter-widgets/controls",
      "model_module_version": "1.5.0",
      "model_name": "TextModel",
      "state": {
       "description": "(?)",
       "description_tooltip": "Compiler version.",
       "layout": "IPY_MODEL_dde6b9189f3a43f791a1f9fd24f5f968",
       "placeholder": "",
       "style": "IPY_MODEL_ef7f7ede46a046d0a74013357f78bd38"
      }
     },
     "b490203a64f443e8b543bce8e84894b9": {
      "model_module": "@jupyter-widgets/base",
      "model_module_version": "1.2.0",
      "model_name": "LayoutModel",
      "state": {}
     },
     "b98a50fa148646d8883995e7e21d730e": {
      "model_module": "@jupyter-widgets/base",
      "model_module_version": "1.2.0",
      "model_name": "LayoutModel",
      "state": {}
     },
     "b9b7f373052d462b8edf58e09fdfa78b": {
      "model_module": "@jupyter-widgets/base",
      "model_module_version": "1.2.0",
      "model_name": "LayoutModel",
      "state": {}
     },
     "ba5f2b47a5c749e3b5130b43a148b247": {
      "model_module": "@jupyter-widgets/base",
      "model_module_version": "1.2.0",
      "model_name": "LayoutModel",
      "state": {}
     },
     "bb18a6bfc991449bab2bf31b4ff0b7f3": {
      "model_module": "@jupyter-widgets/controls",
      "model_module_version": "1.5.0",
      "model_name": "CheckboxModel",
      "state": {
       "description": "Enables ccache build caching.",
       "disabled": false,
       "layout": "IPY_MODEL_2bd992b6f1884aed8f887321889743ec",
       "style": "IPY_MODEL_ac5773327e674ecda44f719a410a6e48",
       "value": false
      }
     },
     "bb1b0f3ea21a45bcbafee73383d2c2ba": {
      "model_module": "@jupyter-widgets/base",
      "model_module_version": "1.2.0",
      "model_name": "LayoutModel",
      "state": {}
     },
     "bba838697ed24ed69f19400b62f6d510": {
      "model_module": "@jupyter-widgets/base",
      "model_module_version": "1.2.0",
      "model_name": "LayoutModel",
      "state": {}
     },
     "bbb861c5a739443789c3892373685254": {
      "model_module": "@jupyter-widgets/controls",
      "model_module_version": "1.5.0",
      "model_name": "TextModel",
      "state": {
       "description": "(?)",
       "description_tooltip": "Overwrite output enroot image file name",
       "layout": "IPY_MODEL_4bd6b75084274e4294311ed4a1201382",
       "placeholder": "",
       "style": "IPY_MODEL_0c956bf038834ef385608156c3dff193"
      }
     },
     "bd5b6136f20b4ae5b79562221556c5d6": {
      "model_module": "@jupyter-widgets/base",
      "model_module_version": "1.2.0",
      "model_name": "LayoutModel",
      "state": {}
     },
     "be54cdec3b8a4c4dabce559e2f049921": {
      "model_module": "@jupyter-widgets/base",
      "model_module_version": "1.2.0",
      "model_name": "LayoutModel",
      "state": {}
     },
     "c0bdc596ae1041219de8b780171895ac": {
      "model_module": "@jupyter-widgets/controls",
      "model_module_version": "1.5.0",
      "model_name": "DescriptionStyleModel",
      "state": {
       "description_width": ""
      }
     },
     "c23c350993a8477f8c0ccd2968b473e3": {
      "model_module": "@jupyter-widgets/controls",
      "model_module_version": "1.5.0",
      "model_name": "LabelModel",
      "state": {
       "layout": "IPY_MODEL_945c2ef3fa1c40d1a59808e28e8603fd",
       "style": "IPY_MODEL_159f01ff5cf34e3d83b5dce43c7b3e15",
       "value": "--ogs"
      }
     },
     "c274e7d0fb6f4d879717a69a1a1a49fc": {
      "model_module": "@jupyter-widgets/base",
      "model_module_version": "1.2.0",
      "model_name": "LayoutModel",
      "state": {}
     },
     "c3671bfdad164bdab48419fd99daac6a": {
      "model_module": "@jupyter-widgets/base",
      "model_module_version": "1.2.0",
      "model_name": "LayoutModel",
      "state": {}
     },
     "c8c6a35cb65046b4997cc22caac31101": {
      "model_module": "@jupyter-widgets/controls",
      "model_module_version": "1.5.0",
      "model_name": "DescriptionStyleModel",
      "state": {
       "description_width": ""
      }
     },
     "c8c7d4ef7ed546f5a48113f1cc3055f2": {
      "model_module": "@jupyter-widgets/controls",
      "model_module_version": "1.5.0",
      "model_name": "DescriptionStyleModel",
      "state": {
       "description_width": ""
      }
     },
     "c99fddbbf5754c639f3c6fa0658cec3d": {
      "model_module": "@jupyter-widgets/controls",
      "model_module_version": "1.5.0",
      "model_name": "LabelModel",
      "state": {
       "layout": "IPY_MODEL_af476aee94584a4196c1c19579516cf8",
       "style": "IPY_MODEL_2c501ab3a70447f5b732ddef18a13a41",
       "value": "--compiler_version"
      }
     },
     "cc94f663b9504d25a00314c4259da094": {
      "model_module": "@jupyter-widgets/controls",
      "model_module_version": "1.5.0",
      "model_name": "LabelModel",
      "state": {
       "layout": "IPY_MODEL_1207a2ca9db54cb0bd683739ced54747",
       "style": "IPY_MODEL_489868b75927442380e51fd3368e8035",
       "value": "--version_file"
      }
     },
     "d00adcf2e64b401cb316e74f9ad53193": {
      "model_module": "@jupyter-widgets/base",
      "model_module_version": "1.2.0",
      "model_name": "LayoutModel",
      "state": {}
     },
     "d0e942d105cf4ba6b02438afbf77a76e": {
      "model_module": "@jupyter-widgets/controls",
      "model_module_version": "1.5.0",
      "model_name": "DescriptionStyleModel",
      "state": {
       "description_width": ""
      }
     },
     "d57489766efc4d3d998ee31c98bb908e": {
      "model_module": "@jupyter-widgets/base",
      "model_module_version": "1.2.0",
      "model_name": "LayoutModel",
      "state": {}
     },
     "d696082452bc4f8ba2ec08014eee6355": {
      "model_module": "@jupyter-widgets/controls",
      "model_module_version": "1.5.0",
      "model_name": "DescriptionStyleModel",
      "state": {
       "description_width": ""
      }
     },
     "d6c217a4f19e42e58a8597f8a0b311c2": {
      "model_module": "@jupyter-widgets/base",
      "model_module_version": "1.2.0",
      "model_name": "LayoutModel",
      "state": {}
     },
     "d6e9df62ad8d448ea627e76f349d1e8e": {
      "model_module": "@jupyter-widgets/controls",
      "model_module_version": "1.5.0",
      "model_name": "TabModel",
      "state": {
       "_titles": {
        "0": "compiler.py",
        "1": "mpi.py",
        "2": "ogs.py"
       },
       "children": [
        "IPY_MODEL_245e3396b96c44cabe81059b6c4a8b19",
        "IPY_MODEL_7fbaae64d7324992915c1d3597412276",
        "IPY_MODEL_af997ba0423d420e9835c52ee9c1c59b"
       ],
       "layout": "IPY_MODEL_39255eea6e13481b8c2555dcaf4e84e7",
       "selected_index": 2
      }
     },
     "db17136d63984d508ea606a302887068": {
      "model_module": "@jupyter-widgets/controls",
      "model_module_version": "1.5.0",
      "model_name": "LabelModel",
      "state": {
       "layout": "IPY_MODEL_52f89a8d8fd84336a4d3a067688b1611",
       "style": "IPY_MODEL_7aa6cbced09640f198760b2ba0864fcb",
       "value": "--sif_file"
      }
     },
     "dc8f300ade3f4f89aecdf289271f1e07": {
      "model_module": "@jupyter-widgets/base",
      "model_module_version": "1.2.0",
      "model_name": "LayoutModel",
      "state": {}
     },
     "dcd934b2f4ad460c8b101f8c5501a2ea": {
      "model_module": "@jupyter-widgets/controls",
      "model_module_version": "1.5.0",
      "model_name": "DescriptionStyleModel",
      "state": {
       "description_width": ""
      }
     },
     "dde6b9189f3a43f791a1f9fd24f5f968": {
      "model_module": "@jupyter-widgets/base",
      "model_module_version": "1.2.0",
      "model_name": "LayoutModel",
      "state": {}
     },
     "debac3c714294adfb011e14ad0f8d2a7": {
      "model_module": "@jupyter-widgets/controls",
      "model_module_version": "1.5.0",
      "model_name": "LabelModel",
      "state": {
       "layout": "IPY_MODEL_801b4b141b984b6e8f29979970d85141",
       "style": "IPY_MODEL_5c1068c93a0d44199e4c30e82f98d49b",
       "value": "--pip"
      }
     },
     "dfdd44f889024479be8843a1aac6f9ee": {
      "model_module": "@jupyter-widgets/base",
      "model_module_version": "1.2.0",
      "model_name": "LayoutModel",
      "state": {}
     },
     "e09d45ea741948c788e59a4f78edf603": {
      "model_module": "@jupyter-widgets/controls",
      "model_module_version": "1.5.0",
      "model_name": "CheckboxModel",
      "state": {
       "description": "Convert Docker image to Singularity image",
       "disabled": false,
       "layout": "IPY_MODEL_3c59cd6365754dc28e1ca21021899930",
       "style": "IPY_MODEL_e87f683b37fe405abcd2c3fe34af9154",
       "value": true
      }
     },
     "e0c80d41f9c5439183ba5d838b88b8c8": {
      "model_module": "@jupyter-widgets/controls",
      "model_module_version": "1.5.0",
      "model_name": "DescriptionStyleModel",
      "state": {
       "description_width": ""
      }
     },
     "e2c316ae89304220be56b55a2a54cba4": {
      "model_module": "@jupyter-widgets/controls",
      "model_module_version": "1.5.0",
      "model_name": "LabelModel",
      "state": {
       "layout": "IPY_MODEL_858ff3f77de34e388f9b725cbb83e696",
       "style": "IPY_MODEL_856798b926fa4b06bf8fd8acc0ef68b6",
       "value": "--gcovr"
      }
     },
     "e40fab7f27b843788c03f41f734f41aa": {
      "model_module": "@jupyter-widgets/base",
      "model_module_version": "1.2.0",
      "model_name": "LayoutModel",
      "state": {}
     },
     "e43ff81fce404e2f857dbeffc34c8d5a": {
      "model_module": "@jupyter-widgets/controls",
      "model_module_version": "1.5.0",
      "model_name": "TextModel",
      "state": {
       "description": "(?)",
       "description_tooltip": "OGS repo on gitlab.opengeosys.org in the form 'user/repo@branch' OR 'user/repo@@commit' to checkout a specific commit OR a path to a local subdirectory to the git cloned OGS sources OR 'off' to disable OGS building OR 'clean' to disable OGS and all its dev dependencies",
       "layout": "IPY_MODEL_b490203a64f443e8b543bce8e84894b9",
       "placeholder": "ogs/ogs@master",
       "style": "IPY_MODEL_034cb23426bc4e5d954ac8075915f8ba",
       "value": "ogs/ogs@v6.4.0"
      }
     },
     "e5beaff668dc4c4f97ff0c13358b7d79": {
      "model_module": "@jupyter-widgets/base",
      "model_module_version": "1.2.0",
      "model_name": "LayoutModel",
      "state": {}
     },
     "e601a6cea8254f17ad460fb58473e517": {
      "model_module": "@jupyter-widgets/controls",
      "model_module_version": "1.5.0",
      "model_name": "GridBoxModel",
      "state": {
       "children": [
        "IPY_MODEL_ff3f10e860a348599cf428f919bb76e6",
        "IPY_MODEL_4ceb8a3823064dcf911ce33f65952de3",
        "IPY_MODEL_0dde439112f64be8a1a47a1c2a8d9c90",
        "IPY_MODEL_9c8a3c0e63f1498e89dc120a50113901"
       ],
       "layout": "IPY_MODEL_28eb6267c5354ff4a4bd2619a09c6368"
      }
     },
     "e60377f002bd4230b066117aaa02ff7d": {
      "model_module": "@jupyter-widgets/controls",
      "model_module_version": "1.5.0",
      "model_name": "TextModel",
      "state": {
       "description": "(?)",
       "description_tooltip": "Install additional OS packages",
       "layout": "IPY_MODEL_5bd73bd029be4dcf8cc2e1649d174307",
       "placeholder": "[]",
       "style": "IPY_MODEL_3b026f9073ba40f39adfe91afb27bde7"
      }
     },
     "e608df2526874471ab88fad84a8e0f5b": {
      "model_module": "@jupyter-widgets/controls",
      "model_module_version": "1.5.0",
      "model_name": "DescriptionStyleModel",
      "state": {
       "description_width": ""
      }
     },
     "e79801a3d80f4f92ab0d7697004d3415": {
      "model_module": "@jupyter-widgets/controls",
      "model_module_version": "1.5.0",
      "model_name": "DescriptionStyleModel",
      "state": {
       "description_width": ""
      }
     },
     "e87f683b37fe405abcd2c3fe34af9154": {
      "model_module": "@jupyter-widgets/controls",
      "model_module_version": "1.5.0",
      "model_name": "DescriptionStyleModel",
      "state": {
       "description_width": ""
      }
     },
     "e8c6b62d436c4e9c9acb12dcd5d09f50": {
      "model_module": "@jupyter-widgets/controls",
      "model_module_version": "1.5.0",
      "model_name": "ButtonModel",
      "state": {
       "button_style": "primary",
       "description": "CREATE CONTAINER",
       "layout": "IPY_MODEL_9de0ad0e8ac44b1eb98a387911e84a33",
       "style": "IPY_MODEL_0adcf16adb624d79855fe30ba3c38d30"
      }
     },
     "ea4d6dee36d346a880c9d4377af12734": {
      "model_module": "@jupyter-widgets/controls",
      "model_module_version": "1.5.0",
      "model_name": "DescriptionStyleModel",
      "state": {
       "description_width": ""
      }
     },
     "eb1b138c12454f4c9979c14dd62d961b": {
      "model_module": "@jupyter-widgets/controls",
      "model_module_version": "1.5.0",
      "model_name": "LabelModel",
      "state": {
       "layout": "IPY_MODEL_0c13e6f5fb47438298c5812a5b8ea605",
       "style": "IPY_MODEL_7cc08123200342eeac1210f6d71336d2",
       "value": "--force"
      }
     },
     "eb36f4913259463fbd9dda7b8c62d739": {
      "model_module": "@jupyter-widgets/base",
      "model_module_version": "1.2.0",
      "model_name": "LayoutModel",
      "state": {}
     },
     "ec14edf0eb85485d84ac3b0ba8792b48": {
      "model_module": "@jupyter-widgets/base",
      "model_module_version": "1.2.0",
      "model_name": "LayoutModel",
      "state": {}
     },
     "ecdaea1e430b4ba7b2e136beb65ab6f3": {
      "model_module": "@jupyter-widgets/controls",
      "model_module_version": "1.5.0",
      "model_name": "DescriptionStyleModel",
      "state": {
       "description_width": ""
      }
     },
     "eda21a831fec407fbd1a6ce66b663f10": {
      "model_module": "@jupyter-widgets/controls",
      "model_module_version": "1.5.0",
      "model_name": "GridBoxModel",
      "state": {
       "children": [
        "IPY_MODEL_debac3c714294adfb011e14ad0f8d2a7",
        "IPY_MODEL_1aeb91071280430588a7398abdb1b924",
        "IPY_MODEL_67a89ce9c9514716954f2c7b95db33b4",
        "IPY_MODEL_e60377f002bd4230b066117aaa02ff7d"
       ],
       "layout": "IPY_MODEL_4ecfcf550c054abdba61daa284126336"
      }
     },
     "ef0dcbe30a9e48889b7545084669eef0": {
      "model_module": "@jupyter-widgets/controls",
      "model_module_version": "1.5.0",
      "model_name": "DescriptionStyleModel",
      "state": {
       "description_width": ""
      }
     },
     "ef17ab9ffd5d473a9b65142e4fc714b4": {
      "model_module": "@jupyter-widgets/controls",
      "model_module_version": "1.5.0",
      "model_name": "DescriptionStyleModel",
      "state": {
       "description_width": ""
      }
     },
     "ef7f7ede46a046d0a74013357f78bd38": {
      "model_module": "@jupyter-widgets/controls",
      "model_module_version": "1.5.0",
      "model_name": "DescriptionStyleModel",
      "state": {
       "description_width": ""
      }
     },
     "f2d0e998020641bd9da64b3df548d765": {
      "model_module": "@jupyter-widgets/base",
      "model_module_version": "1.2.0",
      "model_name": "LayoutModel",
      "state": {
       "grid_gap": "10px 10px",
       "grid_template_columns": "150px auto 150px auto",
       "grid_template_rows": "auto"
      }
     },
     "f33a292ff95f43f497073a73bd32486f": {
      "model_module": "@jupyter-widgets/base",
      "model_module_version": "1.2.0",
      "model_name": "LayoutModel",
      "state": {
       "grid_gap": "10px 10px",
       "grid_template_columns": "150px auto 150px auto",
       "grid_template_rows": "auto"
      }
     },
     "f558e30d4391463286673f174a84c3a8": {
      "model_module": "@jupyter-widgets/controls",
      "model_module_version": "1.5.0",
      "model_name": "LabelModel",
      "state": {
       "layout": "IPY_MODEL_a2e8275c31b04d69a8ea33b0211e8741",
       "style": "IPY_MODEL_489906c70a02477396d33c152ec167b6",
       "value": "--ccache"
      }
     },
     "f82a290987b74d09ac0c34ce6054ec4f": {
      "model_module": "@jupyter-widgets/base",
      "model_module_version": "1.2.0",
      "model_name": "LayoutModel",
      "state": {}
     },
     "f83ebd7f7e784bc296cdf0f54666ee84": {
      "model_module": "@jupyter-widgets/controls",
      "model_module_version": "1.5.0",
      "model_name": "LabelModel",
      "state": {
       "layout": "IPY_MODEL_ffa43e7abcd645a682594d588a932b6e",
       "style": "IPY_MODEL_69fcb4971115473c8d9931fb371445d0",
       "value": "--convert"
      }
     },
     "f8eb7171aae2434b9953541f2c1f73f2": {
      "model_module": "@jupyter-widgets/controls",
      "model_module_version": "1.5.0",
      "model_name": "LabelModel",
      "state": {
       "layout": "IPY_MODEL_3a950051381a422ba30b62426a852fb2",
       "style": "IPY_MODEL_4f3bd77ab6884546b762293cfb57b136",
       "value": "--upload"
      }
     },
     "f9a5cfdae8c54be3b5a0eba8937761a4": {
      "model_module": "@jupyter-widgets/controls",
      "model_module_version": "1.5.0",
      "model_name": "CheckboxModel",
      "state": {
       "description": "Install and configure with cvode",
       "disabled": false,
       "layout": "IPY_MODEL_51be2b622a4b4db4b453c76ef9a934c1",
       "style": "IPY_MODEL_2a610c9dc1954f46a774cd9821551b19",
       "value": false
      }
     },
     "fa7388bdcd1a4b4686a1955fa528e952": {
      "model_module": "@jupyter-widgets/base",
      "model_module_version": "1.2.0",
      "model_name": "LayoutModel",
      "state": {}
     },
     "fad4c598b4204636aec21bce5a924948": {
      "model_module": "@jupyter-widgets/base",
      "model_module_version": "1.2.0",
      "model_name": "LayoutModel",
      "state": {}
     },
     "faeb1824859f4e57bfad83ac8dec048f": {
      "model_module": "@jupyter-widgets/controls",
      "model_module_version": "1.5.0",
      "model_name": "DescriptionStyleModel",
      "state": {
       "description_width": ""
      }
     },
     "faf396f7111346e0bda2d23cc09fc7b3": {
      "model_module": "@jupyter-widgets/controls",
      "model_module_version": "1.5.0",
      "model_name": "TextModel",
      "state": {
       "description": "(?)",
       "description_tooltip": "The docker registry the image is tagged and uploaded to.",
       "layout": "IPY_MODEL_1f1b13e727034ec9984fe023e3e52615",
       "placeholder": "registry.opengeosys.org/ogs/ogs",
       "style": "IPY_MODEL_7d7bf32a6dd74501aad0e0ae654d3d73"
      }
     },
     "fb2bb176f2f1420d81930e3c98087bbe": {
      "model_module": "@jupyter-widgets/controls",
      "model_module_version": "1.5.0",
      "model_name": "CheckboxModel",
      "state": {
       "description": "Install cppcheck",
       "disabled": false,
       "layout": "IPY_MODEL_40ac7830ab28403f9076c1c74b08d89b",
       "style": "IPY_MODEL_8df9c2b7d8a64595bc0e430e2f5a6cc8",
       "value": false
      }
     },
     "fb4e02ab83ab4dedad60e852950b4c9c": {
      "model_module": "@jupyter-widgets/base",
      "model_module_version": "1.2.0",
      "model_name": "LayoutModel",
      "state": {}
     },
     "ff3f10e860a348599cf428f919bb76e6": {
      "model_module": "@jupyter-widgets/controls",
      "model_module_version": "1.5.0",
      "model_name": "LabelModel",
      "state": {
       "layout": "IPY_MODEL_aa040e14d0244ff9af46ff4f450a19c2",
       "style": "IPY_MODEL_91ce5c96b3824b9aaa9e676b1e69bc9a",
       "value": "--format"
      }
     },
     "ffa43e7abcd645a682594d588a932b6e": {
      "model_module": "@jupyter-widgets/base",
      "model_module_version": "1.2.0",
      "model_name": "LayoutModel",
      "state": {}
     }
    },
    "version_major": 2,
    "version_minor": 0
   }
  }
 },
 "nbformat": 4,
 "nbformat_minor": 5
}
